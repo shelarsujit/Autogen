{
 "cells": [
  {
   "cell_type": "code",
   "execution_count": null,
   "metadata": {},
   "outputs": [],
   "source": [
    "import autogen\n",
    "import openai\n",
    "\n",
    "coder=autogen.AssistantAgent(\"coder\")\n",
    "user_proxy=autogen.UserProxyAgent(\"user_proxy\")\n",
    "\n",
    "task=\"Plot a chart of 'META' and 'MSFT' stock price current YTD.\"\n",
    "user_proxy.initiate_chat(coder,message=task)"
   ]
  }
 ],
 "metadata": {
  "language_info": {
   "name": "python"
  }
 },
 "nbformat": 4,
 "nbformat_minor": 2
}
